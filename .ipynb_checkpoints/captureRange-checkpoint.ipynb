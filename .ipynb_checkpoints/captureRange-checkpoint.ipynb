{
 "cells": [
  {
   "cell_type": "code",
   "execution_count": 9,
   "id": "e937c90b",
   "metadata": {},
   "outputs": [],
   "source": [
    "import numpy as np"
   ]
  },
  {
   "cell_type": "code",
   "execution_count": 1,
   "id": "c6c27d45",
   "metadata": {},
   "outputs": [],
   "source": [
    "#mode = 'budget'\n",
    "\n",
    "#we calculate the max (not RMS) deviation for each zenith angle and temperature.\n",
    "# for each zenith angle and temperature, \n",
    "#         we use a random number to determine how much the reality deviates from FEA.\n",
    "# We assume alignment is done in norminal conditions that put the LMT in the center of its capture range.\n",
    "mode = 'model' "
   ]
  },
  {
   "cell_type": "markdown",
   "id": "d03b96f0",
   "metadata": {},
   "source": [
    "I am failing to see the usefulness of such a model. If we run a huge number of instances, the worst case would be where 1.0mm becomes 1.2mm, and 2.0mm becomes 2.4mm, and so on. Then we add them together. For each source on the capture range budget table, I will get exactly the same numbers as you have right now.\n",
    "Combining all the sources together, if we assume the worst case, i.e., for M1 displacement, all the FEA underestimates by 20% for gravity and 50% for thermal, for M2 displacements, the same thing happens. The worst case we get out of these simulations would be just adding all the sources instead of RSS. So I feel that is the only change we need to make, since this budget is about maximum deviations. \n",
    "\n",
    "Thinking about using the LTN to calibrate the open-loop model?\n",
    "The 80% in gravity and 50% thermal are for the calibrated open-loop model, although that might be quite conservative."
   ]
  },
  {
   "cell_type": "code",
   "execution_count": 3,
   "id": "ac92ab50",
   "metadata": {},
   "outputs": [],
   "source": [
    "#zenith angle in degree. Range = [ 0, 60]\n",
    "zAngleDeg = 0\n",
    "#temperature in C. #LMT functional requirements are over extended operating conditions: -4.0 C to 20.5 C\n",
    "tempC = 0"
   ]
  },
  {
   "cell_type": "code",
   "execution_count": 16,
   "id": "799f4a6a",
   "metadata": {},
   "outputs": [],
   "source": [
    "#refer terms below to M1 motion budget. All units mm\n",
    "M1_disp_matrix = np.array([[2, 0.2], #M1_component_margin\n",
    "                           [2, 0.2], #M1_free_motion_margin\n",
    "                           [0.24, 0.2], #M1_mount_G\n",
    "                           [0.66, 0.5], #M1 cell thermal\n",
    "                           [1.33, 0.5], #M1 mount thermal\n",
    "                 ])"
   ]
  },
  {
   "cell_type": "code",
   "execution_count": 23,
   "id": "98c43048",
   "metadata": {},
   "outputs": [
    {
     "name": "stdout",
     "output_type": "stream",
     "text": [
      "0.4\n",
      "0.4\n",
      "0.048\n"
     ]
    }
   ],
   "source": [
    "zAngleDeg = 60\n",
    "for i in range(M1_disp_matrix.shape[0]):\n",
    "    if M1_disp_matrix[i,1] == 0.2:\n",
    "        #2: convert +/- into full range, which corresponds to A*sin(0°) to A*sin(60°)\n",
    "        A = M1_disp_matrix[i,0]*2/(np.sin(np.radians(60)))\n",
    "        # zero-point is not at zenith; we need to subtract the offset\n",
    "        feaOffset = A*np.sin(np.radians(zAngleDeg)) - M1_disp_matrix[i,0]\n",
    "        # real offset\n",
    "        realOffsetMag = feaOffset*M1_disp_matrix[i,1]\n",
    "        print(realOffsetMag)"
   ]
  },
  {
   "cell_type": "code",
   "execution_count": 17,
   "id": "ca54695c",
   "metadata": {},
   "outputs": [
    {
     "data": {
      "text/plain": [
       "(5, 2)"
      ]
     },
     "execution_count": 17,
     "metadata": {},
     "output_type": "execute_result"
    }
   ],
   "source": [
    "M1_disp_matrix.shape"
   ]
  },
  {
   "cell_type": "code",
   "execution_count": 18,
   "id": "aeed2da4",
   "metadata": {},
   "outputs": [
    {
     "name": "stdout",
     "output_type": "stream",
     "text": [
      "0.4\n",
      "0.8\n",
      "0.8480000000000001\n",
      "1.1780000000000002\n",
      "1.8430000000000002\n",
      "1.8430000000000002\n"
     ]
    }
   ],
   "source": [
    "sum = 0\n",
    "for i in range(M1_disp_matrix.shape[0]):\n",
    "    sum += M1_disp_matrix[i,0]* M1_disp_matrix[i,1]\n",
    "    print(sum)\n",
    "print(sum)"
   ]
  },
  {
   "cell_type": "code",
   "execution_count": null,
   "id": "9095bf60",
   "metadata": {},
   "outputs": [],
   "source": []
  }
 ],
 "metadata": {
  "kernelspec": {
   "display_name": "Python 3 (ipykernel)",
   "language": "python",
   "name": "python3"
  },
  "language_info": {
   "codemirror_mode": {
    "name": "ipython",
    "version": 3
   },
   "file_extension": ".py",
   "mimetype": "text/x-python",
   "name": "python",
   "nbconvert_exporter": "python",
   "pygments_lexer": "ipython3",
   "version": "3.9.7"
  }
 },
 "nbformat": 4,
 "nbformat_minor": 5
}
