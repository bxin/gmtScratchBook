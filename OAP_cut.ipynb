{
 "cells": [
  {
   "cell_type": "markdown",
   "id": "f8738bd6",
   "metadata": {},
   "source": [
    "This has nothing to do with the particular OAP application\n",
    "\n",
    "If the OAP was cut with an offset and clocking angle that deviate from the design, it leads to different mechanical mounting parameters than as designed.\n",
    "\n",
    "The question we are trying to answer:\n",
    "\n",
    "We assume Nu-Tek measured the radius of curvature perfectly.\n",
    "Given that Nu-Tek cut the OAP at an unknown (offset, clocking_angle), we had to do translations and tilts to get back the almost perfect surface, can we reverse solve the problem and derive the offset and clocking_angle?\n",
    "\n",
    "Executive summary:\n",
    "\n",
    "yes, the code below does the above. But the RMS error still seems to be large (~119 microns).\n",
    "The problem may be that there can be large uncertains in the translations and tilts that we determined, for example, the thickness and uniformity of the double-sided tape?"
   ]
  },
  {
   "cell_type": "code",
   "execution_count": 881,
   "id": "0241ff5c",
   "metadata": {},
   "outputs": [
    {
     "data": {
      "text/plain": [
       "<Figure size 432x288 with 0 Axes>"
      ]
     },
     "metadata": {},
     "output_type": "display_data"
    }
   ],
   "source": [
    "import numpy as np\n",
    "import matplotlib.pyplot as plt\n",
    "plt.jet();"
   ]
  },
  {
   "cell_type": "code",
   "execution_count": 882,
   "id": "4416f933",
   "metadata": {},
   "outputs": [
    {
     "name": "stdout",
     "output_type": "stream",
     "text": [
      "9.844260157657658\n"
     ]
    }
   ],
   "source": [
    "#everything in this cell is OAP1 specific\n",
    "oapR = 628.99 #OAP1, measured by NuTek\n",
    "oapBeamD = oapR/2/222*6.949 #mm, 6.949mm is FOV width of PhaseCam\n",
    "pixelSize = 0.1 #mm\n",
    "offset0 = 60\n",
    "clocking0 = 180\n",
    "\n",
    "print(oapBeamD)\n",
    "\n",
    "#we measured the following in the lab\n",
    "#+z points to FM2\n",
    "#+y points up from bench\n",
    "#+x points to OAP2 (according to RH rule)\n",
    "#if they cut with an offset a little too large, \n",
    "#.   the part of surface we need will be closer to the innner edge than it should be\n",
    "#.   then we have to shift the mirror mount outward in order to use the same part of the surface.\n",
    "lab_x = 0.114 #mm, need to increase offset by this much; test: set to 5, min will be at x=-65mm\n",
    "lab_y = 1.26 #mm, clocking angle goes beyond 180° a little; test: set to 10, min will be at y = -10mm\n",
    "lab_h = -0.346 #deg, negative means outer part gets closer to center of curvature; \n",
    "            # test: set to -2 (with lab_z = 1), min will be at x=-54mm\n",
    "lab_v = 0.091 #deg, positive means lower parts gets closer to the center of curvature; \n",
    "            # test: set to 2, min will be at y = +10mm\n",
    "lab_z = 2.801 #mm, positive means this needs to be moved closer to the center of curvature;\n",
    "            # test: set to 1, min will be at x=-54mm\n",
    "\n",
    "lab_x = -lab_x #in our coordinate below, larger offset means x becomes more negative\n",
    "lab_y = -lab_y #in our coordinate below, larger offset means y becomes more negative\n",
    "lab_v = -lab_v #in our coordinate below, larger vertical angle means -y -->+z"
   ]
  },
  {
   "cell_type": "code",
   "execution_count": 883,
   "id": "9c8b3a43",
   "metadata": {},
   "outputs": [],
   "source": [
    "map_min = -100 #mm\n",
    "map_max = 100 #mm\n",
    "nPixel = int((map_max - map_min)/pixelSize)\n",
    "xVec = np.linspace(map_min, map_max, nPixel+1)\n",
    "yVec = np.linspace(map_min, map_max, nPixel+1)\n",
    "[x, y] = np.meshgrid(xVec, yVec)\n",
    "\n",
    "r2 = (x**2+y**2)\n",
    "z= -1/oapR*r2\n",
    "z[r2>map_max**2] = np.nan"
   ]
  },
  {
   "cell_type": "code",
   "execution_count": 884,
   "id": "383da657",
   "metadata": {},
   "outputs": [],
   "source": [
    "#plt.imshow(z, extent=[map_min, map_max, map_min, map_max])\n",
    "#plt.xlabel('mm')\n",
    "#plt.ylabel('mm')\n",
    "#plt.colorbar()"
   ]
  },
  {
   "cell_type": "code",
   "execution_count": 885,
   "id": "3a6cb944",
   "metadata": {},
   "outputs": [],
   "source": [
    "def cutout(offset, clocking, x, y, z, oapBeamD, lab_x, lab_y, lab_h, lab_v, lab_z):\n",
    "    #these are the offsets with which we cut out the big piece, which goes into the mirror mount\n",
    "    offsetxMount = offset*np.cos(np.radians(clocking))\n",
    "    offsetyMount = offset*np.sin(np.radians(clocking))\n",
    "    \n",
    "    #for surface comparison, we only cut out D=beam size.\n",
    "    offsetx = offsetxMount - lab_x\n",
    "    offsety = offsetyMount - lab_y\n",
    "    offsetx = np.round(offsetx/pixelSize)*pixelSize #without rounding, number of pixels will mismatch\n",
    "    offsety = np.round(offsety/pixelSize)*pixelSize\n",
    "    idx = ((x-offsetx)**2 + (y-offsety)**2 < (oapBeamD/2)**2)\n",
    "    zcutout = z[idx]\n",
    "    xcutout = x[idx]\n",
    "    ycutout = y[idx]\n",
    "\n",
    "    zcutout -= (xcutout-offsetx)*np.tan(np.radians(lab_h))\n",
    "    zcutout -= (ycutout-offsety)*np.tan(np.radians(lab_v))\n",
    "    zcutout -= lab_z\n",
    "\n",
    "    \n",
    "    return offsetxMount, offsetyMount, xcutout, ycutout, zcutout"
   ]
  },
  {
   "cell_type": "code",
   "execution_count": 886,
   "id": "1547c9a2",
   "metadata": {},
   "outputs": [],
   "source": [
    "offsetx, offsety, xcutout, ycutout, zcutout0 = cutout(offset0, clocking0, x, y, z, oapBeamD,0,0,0,0,0)\n",
    "plt_min = np.min(np.abs(zcutout0))\n",
    "plt_max = np.max(np.abs(zcutout0))\n",
    "#plt.scatter(xcutout, ycutout, np.abs(zcutout0), np.abs(zcutout0), vmin=plt_min, vmax=plt_max)\n",
    "#plt.colorbar()\n",
    "\n",
    "#print(zcutout0[1000])\n",
    "offsetArray = np.arange(40,46,0.2)\n",
    "clockingArray = np.arange(170, 190.1, 2)\n",
    "offsetxArray = np.zeros(len(offsetArray)*len(clockingArray))\n",
    "offsetyArray = np.zeros(len(offsetArray)*len(clockingArray))\n",
    "rmsArray = np.zeros(len(offsetArray)*len(clockingArray))\n",
    "i = 0\n",
    "#fig, ax = plt.subplots(1,10, figsize=(20,2))\n",
    "for offset in offsetArray:\n",
    "    for clocking in clockingArray:\n",
    "        offsetx, offsety, xcutout, ycutout, zcutout = cutout(offset, clocking, x, y, z, oapBeamD, lab_x, lab_y, lab_h, lab_v, lab_z)\n",
    "        offsetxArray[i] = offsetx\n",
    "        offsetyArray[i] = offsety\n",
    "        rmsArray[i] = np.sqrt(np.mean((zcutout - zcutout0)**2))\n",
    "        i+=1\n",
    "        #if i<5:\n",
    "        #    print(xcutout[-1], zcutout[-1], zcutout0[-1], rmsArray[i-1])\n",
    "        # ax[i-1].scatter(xcutout, ycutout, np.abs(zcutout), np.abs(zcutout), vmin=plt_min, vmax=plt_max)\n",
    "        #print('%5.1f, %5.1f %.3f'%(offsetx, offsety, np.std(zcutout - zcutout0)))"
   ]
  },
  {
   "cell_type": "code",
   "execution_count": 887,
   "id": "60b2b27e",
   "metadata": {},
   "outputs": [
    {
     "data": {
      "text/plain": [
       "<matplotlib.colorbar.Colorbar at 0x7fa839dfc910>"
      ]
     },
     "execution_count": 887,
     "metadata": {},
     "output_type": "execute_result"
    },
    {
     "data": {
      "image/png": "[encoded data removed]",
      "text/plain": [
       "<Figure size 1080x864 with 2 Axes>"
      ]
     },
     "metadata": {
      "needs_background": "light"
     },
     "output_type": "display_data"
    }
   ],
   "source": [
    "fig, ax = plt.subplots(1,1, figsize=(15,12))\n",
    "plt.scatter(offsetxArray, offsetyArray, rmsArray*100, rmsArray)\n",
    "plt.grid()\n",
    "plt.colorbar()"
   ]
  },
  {
   "cell_type": "code",
   "execution_count": 888,
   "id": "b2e74b60",
   "metadata": {},
   "outputs": [
    {
     "data": {
      "text/plain": [
       "0.11914689734545181"
      ]
     },
     "execution_count": 888,
     "metadata": {},
     "output_type": "execute_result"
    }
   ],
   "source": [
    "np.min(rmsArray)"
   ]
  },
  {
   "cell_type": "code",
   "execution_count": 889,
   "id": "d3392028",
   "metadata": {},
   "outputs": [],
   "source": [
    "idxmin = rmsArray == np.min(rmsArray)"
   ]
  },
  {
   "cell_type": "code",
   "execution_count": 891,
   "id": "e4bc8a05",
   "metadata": {},
   "outputs": [
    {
     "data": {
      "text/plain": [
       "(array([-42.97380556]), array([-1.50067836]))"
      ]
     },
     "execution_count": 891,
     "metadata": {},
     "output_type": "execute_result"
    }
   ],
   "source": [
    "offsetxArray[idxmin], offsetyArray[idxmin]"
   ]
  },
  {
   "cell_type": "markdown",
   "id": "4e8cec5c",
   "metadata": {},
   "source": [
    "### Let's use fmin() to minimize the \\chi^2"
   ]
  },
  {
   "cell_type": "code",
   "execution_count": 893,
   "id": "19ebe372",
   "metadata": {},
   "outputs": [],
   "source": [
    "from scipy import optimize"
   ]
  },
  {
   "cell_type": "code",
   "execution_count": 896,
   "id": "6d9e81ee",
   "metadata": {},
   "outputs": [],
   "source": [
    "def cutoutChi2(cutParam, x, y, z, oapBeamD, lab_x, lab_y, lab_h, lab_v, lab_z, zcutout0):\n",
    "    offset = cutParam[0]\n",
    "    clocking = cutParam[1]\n",
    "    offsetx, offsety, xcutout, ycutout, zcutout = cutout(offset, clocking, x, y, z, oapBeamD, \n",
    "                                                         lab_x, lab_y, lab_h, lab_v, lab_z)\n",
    "    return np.mean((zcutout - zcutout0)**2)"
   ]
  },
  {
   "cell_type": "code",
   "execution_count": 934,
   "id": "554bc8a5",
   "metadata": {},
   "outputs": [
    {
     "name": "stdout",
     "output_type": "stream",
     "text": [
      "Optimization terminated successfully.\n",
      "         Current function value: 0.014389\n",
      "         Iterations: 19\n",
      "         Function evaluations: 57\n",
      "offset from parent center = -43.0 mm\n",
      "OAP clocking = -1.02 deg\n",
      "surface RMS error = 119 microns\n"
     ]
    }
   ],
   "source": [
    "xopt = optimize.fmin(\n",
    "    lambda cutParam: cutoutChi2(cutParam, x, y, z, oapBeamD, lab_x, lab_y, lab_h, lab_v, lab_z, zcutout0),\n",
    "    [-45, -1], disp=1)\n",
    "\n",
    "offset_min = xopt[0]\n",
    "clocking_min = xopt[1]\n",
    "rms = np.sqrt(cutoutChi2(xopt, x, y, z, oapBeamD, lab_x, lab_y, lab_h, lab_v, lab_z, zcutout0))\n",
    "print('offset from parent center = %.1f mm'%offset_min)\n",
    "print('OAP clocking = %.2f deg'%clocking_min)\n",
    "print('surface RMS error = %d microns'%(rms*1000))"
   ]
  },
  {
   "cell_type": "code",
   "execution_count": 935,
   "id": "a9ccf9c0",
   "metadata": {},
   "outputs": [],
   "source": [
    "def cutoutChi2_zfloat(cutParam, x, y, z, oapBeamD, lab_x, lab_y, lab_h, lab_v, zcutout0):\n",
    "    offset = cutParam[0]\n",
    "    clocking = cutParam[1]\n",
    "    lab_z = cutParam[2]\n",
    "    offsetx, offsety, xcutout, ycutout, zcutout = cutout(offset, clocking, x, y, z, oapBeamD, \n",
    "                                                         lab_x, lab_y, lab_h, lab_v, lab_z)\n",
    "    if lab_z > 3.3 or lab_z < 2.5:\n",
    "        zcutout += 1e10\n",
    "    return np.mean((zcutout - zcutout0)**2)"
   ]
  },
  {
   "cell_type": "code",
   "execution_count": 938,
   "id": "ce6e5c43",
   "metadata": {},
   "outputs": [
    {
     "name": "stdout",
     "output_type": "stream",
     "text": [
      "Optimization terminated successfully.\n",
      "         Current function value: 0.010679\n",
      "         Iterations: 69\n",
      "         Function evaluations: 130\n",
      "offset from parent center = -45.2 mm\n",
      "OAP clocking = -1.12 deg\n",
      "OAP z translation = 2.50 mm\n",
      "surface RMS error = 103 microns\n"
     ]
    }
   ],
   "source": [
    "xopt = optimize.fmin(\n",
    "    lambda cutParam: cutoutChi2_zfloat(cutParam, x, y, z, oapBeamD, lab_x, lab_y, lab_h, lab_v, zcutout0),\n",
    "    [-45, -1, 2.8], disp=1)\n",
    "\n",
    "offset_min = xopt[0]\n",
    "clocking_min = xopt[1]\n",
    "lab_z_min = xopt[2]\n",
    "rms = np.sqrt(cutoutChi2_zfloat(xopt, x, y, z, oapBeamD, lab_x, lab_y, lab_h, lab_v, zcutout0))\n",
    "print('offset from parent center = %.1f mm'%offset_min)\n",
    "print('OAP clocking = %.2f deg'%clocking_min)\n",
    "print('OAP z translation = %.2f mm'%lab_z_min)\n",
    "print('surface RMS error = %d microns'%(rms*1000))"
   ]
  },
  {
   "cell_type": "code",
   "execution_count": 957,
   "id": "b4fbd59e",
   "metadata": {},
   "outputs": [],
   "source": [
    "def cutoutChi2_hfloat(cutParam, x, y, z, oapBeamD, lab_x, lab_y, lab_v, lab_z, zcutout0):\n",
    "    offset = cutParam[0]\n",
    "    clocking = cutParam[1]\n",
    "    lab_h = cutParam[2]\n",
    "    offsetx, offsety, xcutout, ycutout, zcutout = cutout(offset, clocking, x, y, z, oapBeamD, \n",
    "                                                         lab_x, lab_y, lab_h, lab_v, lab_z)\n",
    "    if lab_h > 0 or lab_h < -5:\n",
    "        zcutout += 1e10\n",
    "    return np.mean((zcutout - zcutout0)**2)"
   ]
  },
  {
   "cell_type": "code",
   "execution_count": 958,
   "id": "9b6e71b1",
   "metadata": {},
   "outputs": [
    {
     "name": "stdout",
     "output_type": "stream",
     "text": [
      "Optimization terminated successfully.\n",
      "         Current function value: 0.001022\n",
      "         Iterations: 139\n",
      "         Function evaluations: 273\n",
      "offset from parent center = -43.2 mm\n",
      "OAP clocking = 6.12 deg\n",
      "OAP H tilt = -2.91 deg\n",
      "surface RMS error = 31 microns\n"
     ]
    }
   ],
   "source": [
    "xopt = optimize.fmin(\n",
    "    lambda cutParam: cutoutChi2_hfloat(cutParam, x, y, z, oapBeamD, lab_x, lab_y, lab_v, lab_z, zcutout0),\n",
    "    [-45, -1, -.346], disp=1)\n",
    "\n",
    "offset_min = xopt[0]\n",
    "clocking_min = xopt[1]\n",
    "lab_h_min = xopt[2]\n",
    "rms = np.sqrt(cutoutChi2_hfloat(xopt, x, y, z, oapBeamD, lab_x, lab_y, lab_v, lab_z, zcutout0))\n",
    "print('offset from parent center = %.1f mm'%offset_min)\n",
    "print('OAP clocking = %.2f deg'%clocking_min)\n",
    "print('OAP H tilt = %.2f deg'%lab_h_min)\n",
    "print('surface RMS error = %d microns'%(rms*1000))"
   ]
  },
  {
   "cell_type": "code",
   "execution_count": 947,
   "id": "cfe314f1",
   "metadata": {},
   "outputs": [
    {
     "data": {
      "text/plain": [
       "-0.346"
      ]
     },
     "execution_count": 947,
     "metadata": {},
     "output_type": "execute_result"
    }
   ],
   "source": [
    "lab_h"
   ]
  },
  {
   "cell_type": "code",
   "execution_count": 902,
   "id": "9a94253c",
   "metadata": {},
   "outputs": [],
   "source": [
    "def cutoutChi2_allfloat(cutParam, x, y, z, oapBeamD, zcutout0):\n",
    "    offset = cutParam[0]\n",
    "    clocking = cutParam[1]\n",
    "    lab_z = cutParam[2]\n",
    "    lab_x = cutParam[3] \n",
    "    lab_y = cutParam[4] \n",
    "    lab_h = cutParam[5]\n",
    "    lab_v = cutParam[6]\n",
    "    offsetx, offsety, xcutout, ycutout, zcutout = cutout(offset, clocking, x, y, z, oapBeamD, \n",
    "                                                         lab_x, lab_y, lab_h, lab_v, lab_z)\n",
    "    return np.mean((zcutout - zcutout0)**2)"
   ]
  },
  {
   "cell_type": "code",
   "execution_count": 937,
   "id": "fbdfdfc8",
   "metadata": {},
   "outputs": [
    {
     "name": "stdout",
     "output_type": "stream",
     "text": [
      "Optimization terminated successfully.\n",
      "         Current function value: 0.000000\n",
      "         Iterations: 753\n",
      "         Function evaluations: 1209\n",
      "offset from parent center = -60.0 mm\n",
      "OAP clocking = -0.00 deg\n",
      "surface RMS error = 0 microns\n"
     ]
    }
   ],
   "source": [
    "xopt = optimize.fmin(\n",
    "    lambda cutParam: cutoutChi2_allfloat(cutParam, x, y, z, oapBeamD, zcutout0),\n",
    "    [-45, 0, 0, 0, 0, 0, 0], disp=1)\n",
    "\n",
    "offset_min = xopt[0]\n",
    "clocking_min = xopt[1]\n",
    "lab_z_min = xopt[2]\n",
    "rms = cutoutChi2_allfloat(xopt, x, y, z, oapBeamD, zcutout0)\n",
    "print('offset from parent center = %.1f mm'%offset_min)\n",
    "print('OAP clocking = %.2f deg'%clocking_min)\n",
    "print('surface RMS error = %d microns'%(rms*1000))"
   ]
  },
  {
   "cell_type": "code",
   "execution_count": null,
   "id": "8332ce93",
   "metadata": {},
   "outputs": [],
   "source": []
  },
  {
   "cell_type": "code",
   "execution_count": null,
   "id": "1d3f1146",
   "metadata": {},
   "outputs": [],
   "source": []
  },
  {
   "cell_type": "code",
   "execution_count": null,
   "id": "ab500d7a",
   "metadata": {},
   "outputs": [],
   "source": []
  },
  {
   "cell_type": "markdown",
   "id": "33be3611",
   "metadata": {},
   "source": [
    "### Below are experimental features; Ignore for now!"
   ]
  },
  {
   "cell_type": "code",
   "execution_count": 920,
   "id": "94a36af8",
   "metadata": {},
   "outputs": [
    {
     "name": "stdout",
     "output_type": "stream",
     "text": [
      "CONVERGENCE: NORM_OF_PROJECTED_GRADIENT_<=_PGTOL\n",
      "-60.0 0.0 2.0 3.935003852955892\n"
     ]
    }
   ],
   "source": [
    "xopt = optimize.minimize(\n",
    "    lambda cutParam: cutoutChi2_zfloat(cutParam, x, y, z, oapBeamD, lab_x, lab_y, lab_h, lab_v, zcutout0), (-60, 0, 2),\n",
    "    bounds = ((-100, -30), (-10, 0), (2, 3.5)), tol=1.e-16)\n",
    "\n",
    "print(xopt.message)\n",
    "offset_min = xopt.x[0]\n",
    "clocking_min = xopt.x[1]\n",
    "lab_z_min = xopt.x[2]\n",
    "rms = cutoutChi2_zfloat(xopt.x, x, y, z, oapBeamD, lab_x, lab_y, lab_h, lab_v, zcutout0)\n",
    "print(offset_min, clocking_min, lab_z_min, rms)"
   ]
  },
  {
   "cell_type": "code",
   "execution_count": 913,
   "id": "5fc5b384",
   "metadata": {},
   "outputs": [
    {
     "data": {
      "text/plain": [
       "      fun: 3.935003852955892\n",
       " hess_inv: <3x3 LbfgsInvHessProduct with dtype=float64>\n",
       "      jac: array([ 0.        , -0.        ,  3.96724913])\n",
       "  message: 'CONVERGENCE: NORM_OF_PROJECTED_GRADIENT_<=_PGTOL'\n",
       "     nfev: 4\n",
       "      nit: 0\n",
       "     njev: 1\n",
       "   status: 0\n",
       "  success: True\n",
       "        x: array([-60.,   0.,   2.])"
      ]
     },
     "execution_count": 913,
     "metadata": {},
     "output_type": "execute_result"
    }
   ],
   "source": [
    "xopt"
   ]
  }
 ],
 "metadata": {
  "kernelspec": {
   "display_name": "Python 3 (ipykernel)",
   "language": "python",
   "name": "python3"
  },
  "language_info": {
   "codemirror_mode": {
    "name": "ipython",
    "version": 3
   },
   "file_extension": ".py",
   "mimetype": "text/x-python",
   "name": "python",
   "nbconvert_exporter": "python",
   "pygments_lexer": "ipython3",
   "version": "3.9.7"
  }
 },
 "nbformat": 4,
 "nbformat_minor": 5
}
